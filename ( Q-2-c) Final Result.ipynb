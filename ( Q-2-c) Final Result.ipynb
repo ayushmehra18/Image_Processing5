{
 "cells": [
  {
   "cell_type": "code",
   "execution_count": 1,
   "id": "operating-representative",
   "metadata": {},
   "outputs": [],
   "source": [
    "# To import various libraries\n",
    "\n",
    "import math\n",
    "import numpy as np\n",
    "import cv2\n",
    "from PIL import Image"
   ]
  },
  {
   "cell_type": "code",
   "execution_count": 2,
   "id": "great-coach",
   "metadata": {},
   "outputs": [],
   "source": [
    "# To open output Blurr images of Q2 a and b and converting it into an array\n",
    "\n",
    "image_source1 = Image.open('( Q2-a )Space_Invariant_on_Nautilus Image.png')\n",
    "image_source1.show()\n",
    "F1 = np.array(image_source1)\n",
    "\n",
    "image_source2 = Image.open('( Q2-b )Space_Variant_on_Nautilus Image.png')\n",
    "image_source2.show()\n",
    "F2 = np.array(image_source2)"
   ]
  },
  {
   "cell_type": "code",
   "execution_count": 3,
   "id": "billion-costa",
   "metadata": {},
   "outputs": [],
   "source": [
    "#Subtracting one blurred image from another\n",
    "\n",
    "F=F2-F1"
   ]
  },
  {
   "cell_type": "code",
   "execution_count": 4,
   "id": "mineral-force",
   "metadata": {},
   "outputs": [],
   "source": [
    "# To view the New Blurred Image\n",
    "\n",
    "new_image = Image.fromarray(F)\n",
    "new_image.show()"
   ]
  },
  {
   "cell_type": "code",
   "execution_count": 5,
   "id": "egyptian-toilet",
   "metadata": {},
   "outputs": [
    {
     "data": {
      "text/plain": [
       "True"
      ]
     },
     "execution_count": 5,
     "metadata": {},
     "output_type": "execute_result"
    }
   ],
   "source": [
    "# # # To save the new image\n",
    "\n",
    "# cv2.imwrite( '( Q2 c )Final_modulud_image .png', F)"
   ]
  }
 ],
 "metadata": {
  "kernelspec": {
   "display_name": "Python 3",
   "language": "python",
   "name": "python3"
  },
  "language_info": {
   "codemirror_mode": {
    "name": "ipython",
    "version": 3
   },
   "file_extension": ".py",
   "mimetype": "text/x-python",
   "name": "python",
   "nbconvert_exporter": "python",
   "pygments_lexer": "ipython3",
   "version": "3.9.1"
  }
 },
 "nbformat": 4,
 "nbformat_minor": 5
}
