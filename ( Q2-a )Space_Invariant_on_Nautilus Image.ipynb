{
 "cells": [
  {
   "cell_type": "code",
   "execution_count": 1,
   "id": "fleet-railway",
   "metadata": {},
   "outputs": [],
   "source": [
    "# To import various libraries\n",
    "\n",
    "import math\n",
    "import numpy as np\n",
    "import cv2\n",
    "from PIL import Image"
   ]
  },
  {
   "cell_type": "code",
   "execution_count": 2,
   "id": "furnished-potato",
   "metadata": {},
   "outputs": [],
   "source": [
    "# To open \"Nautilus image\" and converting it into an array\n",
    "\n",
    "image_source = Image.open('Nautilus.png')\n",
    "image_source.show()\n",
    "F = np.array(image_source)\n",
    "A,B = F.shape"
   ]
  },
  {
   "cell_type": "code",
   "execution_count": 3,
   "id": "listed-summit",
   "metadata": {},
   "outputs": [
    {
     "name": "stdout",
     "output_type": "stream",
     "text": [
      "7 3\n"
     ]
    }
   ],
   "source": [
    "# To find the Size and Center of the Blur Kernel\n",
    "\n",
    "sigma = 1\n",
    "size = math.ceil((6*sigma)+1)\n",
    "l=int((size-1)/2)\n",
    "print(size,l)"
   ]
  },
  {
   "cell_type": "code",
   "execution_count": 4,
   "id": "million-warren",
   "metadata": {},
   "outputs": [],
   "source": [
    "# Finding Gaussian Blurring Kernel\n",
    "\n",
    "h=np.zeros((size,size))\n",
    "for m in range (size):\n",
    "    for n in range(size):\n",
    "        h[m,n] = (1/(sigma*sigma*2*math.pi))*math.exp(-((m*m)+(n*n))/(2*sigma*sigma))"
   ]
  },
  {
   "cell_type": "code",
   "execution_count": 5,
   "id": "remarkable-hunger",
   "metadata": {},
   "outputs": [
    {
     "name": "stdout",
     "output_type": "stream",
     "text": [
      "0.4892598797034777\n"
     ]
    }
   ],
   "source": [
    "# Addition of all the elements in the Blur Kernel\n",
    "\n",
    "sum=0\n",
    "for m in range (size):  \n",
    "    for n in range(size):      \n",
    "        sum=sum+h[m,n]     \n",
    "print(sum)"
   ]
  },
  {
   "cell_type": "code",
   "execution_count": 6,
   "id": "hydraulic-transportation",
   "metadata": {},
   "outputs": [],
   "source": [
    "# Doing Normalization of the Blur Kernel\n",
    "\n",
    "hn=np.zeros((size,size))\n",
    "for m in range (size):    \n",
    "    for n in range(size):        \n",
    "        hn[m,n] = h[m,n]/sum"
   ]
  },
  {
   "cell_type": "code",
   "execution_count": 7,
   "id": "surgical-number",
   "metadata": {},
   "outputs": [
    {
     "name": "stdout",
     "output_type": "stream",
     "text": [
      "0.9999999999999999\n"
     ]
    }
   ],
   "source": [
    "# To check that the sum of all the elements in the Blur Kernel is 1 after Normalization\n",
    "\n",
    "s=0\n",
    "for m in range (size):    \n",
    "    for n in range(size):       \n",
    "        s = s + hn[m,n]       \n",
    "print(s)"
   ]
  },
  {
   "cell_type": "code",
   "execution_count": 8,
   "id": "induced-personality",
   "metadata": {},
   "outputs": [],
   "source": [
    "# Before Convolution we need to Invert the Blur Kernel along the X-axis and along the Y-axis\n",
    "\n",
    "H = np.zeros((size*size))\n",
    "c = 0\n",
    "for x in range (size-1,-1,-1): \n",
    "    for y in range(size-1,-1,-1):     \n",
    "        H[c] = hn[x,y]       \n",
    "        c = c + 1\n",
    "H = H.reshape((size*size,1))"
   ]
  },
  {
   "cell_type": "code",
   "execution_count": 9,
   "id": "talented-report",
   "metadata": {},
   "outputs": [
    {
     "name": "stdout",
     "output_type": "stream",
     "text": [
      "(49,)\n"
     ]
    }
   ],
   "source": [
    "# Performing Convolution and Storing the output in g matrix\n",
    "\n",
    "g = np.zeros((A,B))\n",
    "f = np.zeros((size*size))\n",
    "print(f.shape)\n",
    "for i in range(l,(A-l)):\n",
    "    for j in range(l,(B-l)):\n",
    "        c=0\n",
    "        for x in range (i-l,i+l+1):\n",
    "            for y in range (j-l,j+l+1):\n",
    "                f[c] = F[x,y]\n",
    "                c=c+1\n",
    "        g[i,j] = np.dot(f,H)  \n",
    "                "
   ]
  },
  {
   "cell_type": "code",
   "execution_count": 10,
   "id": "polish-optics",
   "metadata": {},
   "outputs": [],
   "source": [
    "new_image = Image.fromarray(g)\n",
    "new_image.show()"
   ]
  },
  {
   "cell_type": "code",
   "execution_count": 12,
   "id": "educated-wilson",
   "metadata": {},
   "outputs": [
    {
     "data": {
      "text/plain": [
       "True"
      ]
     },
     "execution_count": 12,
     "metadata": {},
     "output_type": "execute_result"
    }
   ],
   "source": [
    "# # # To save the new image\n",
    "\n",
    "# cv2.imwrite('( Q2-a )Space_Invariant_on_Nautilus Image.png', g)"
   ]
  }
 ],
 "metadata": {
  "kernelspec": {
   "display_name": "Python 3",
   "language": "python",
   "name": "python3"
  },
  "language_info": {
   "codemirror_mode": {
    "name": "ipython",
    "version": 3
   },
   "file_extension": ".py",
   "mimetype": "text/x-python",
   "name": "python",
   "nbconvert_exporter": "python",
   "pygments_lexer": "ipython3",
   "version": "3.9.1"
  }
 },
 "nbformat": 4,
 "nbformat_minor": 5
}
