{
 "cells": [
  {
   "cell_type": "code",
   "execution_count": 1,
   "id": "looking-thomas",
   "metadata": {},
   "outputs": [],
   "source": [
    "# To import various libraries\n",
    "\n",
    "import math\n",
    "import numpy as np\n",
    "import cv2\n",
    "from PIL import Image"
   ]
  },
  {
   "cell_type": "code",
   "execution_count": 2,
   "id": "retired-trader",
   "metadata": {},
   "outputs": [],
   "source": [
    "# To open \"Nautilus image\" and converting it into an array\n",
    "\n",
    "image_source = Image.open('Nautilus.png')\n",
    "image_source.show()\n",
    "F = np.array(image_source)\n",
    "N, N =F.shape"
   ]
  },
  {
   "cell_type": "code",
   "execution_count": 3,
   "id": "unknown-parts",
   "metadata": {},
   "outputs": [],
   "source": [
    "# Calculating A and B from the boundary conditions in the question\n",
    "\n",
    "A = 2\n",
    "B = (N*N) / (2 * math.log(200))"
   ]
  },
  {
   "cell_type": "code",
   "execution_count": 4,
   "id": "waiting-enhancement",
   "metadata": {},
   "outputs": [
    {
     "name": "stdout",
     "output_type": "stream",
     "text": [
      "7 3\n"
     ]
    }
   ],
   "source": [
    "# Performing Space Variant Blurring\n",
    "\n",
    "g = np.zeros((N,N))\n",
    "sigma = 1                    # Given in question\n",
    "size = math.ceil((6*sigma)+1)\n",
    "        \n",
    "if (size/2) == 0:\n",
    "    size = size + 1\n",
    "            \n",
    "l=int((size-1)/2)\n",
    "print(size,l)"
   ]
  },
  {
   "cell_type": "code",
   "execution_count": 5,
   "id": "sublime-wrapping",
   "metadata": {},
   "outputs": [],
   "source": [
    "#         Finding Gaussian Blurring Kernel\n",
    "\n",
    "h=np.zeros((size,size))\n",
    "for m in range (size):\n",
    "    for n in range(size):\n",
    "        h[m,n] = (1/(sigma*sigma*2*math.pi))*math.exp(-((m*m)+(n*n))/(2*sigma*sigma))"
   ]
  },
  {
   "cell_type": "code",
   "execution_count": 6,
   "id": "accessible-authentication",
   "metadata": {},
   "outputs": [
    {
     "name": "stdout",
     "output_type": "stream",
     "text": [
      "Sum =  0.4892598797034777\n"
     ]
    }
   ],
   "source": [
    "#         Addition of all the elements in the Blur Kernel\n",
    "\n",
    "sum=0\n",
    "for m in range (size):  \n",
    "    for n in range(size):      \n",
    "        sum = sum + h[m,n]     \n",
    "print(\"Sum = \", sum)"
   ]
  },
  {
   "cell_type": "code",
   "execution_count": 7,
   "id": "greater-remainder",
   "metadata": {},
   "outputs": [],
   "source": [
    "#         Doing Normalization of the Blur Kernel\n",
    "\n",
    "hn=np.zeros((size,size))\n",
    "for m in range (size):    \n",
    "    for n in range(size):        \n",
    "        hn[m,n] = h[m,n]/sum"
   ]
  },
  {
   "cell_type": "code",
   "execution_count": 8,
   "id": "light-somalia",
   "metadata": {},
   "outputs": [
    {
     "name": "stdout",
     "output_type": "stream",
     "text": [
      "Normalised because sum is =  0.9999999999999999\n"
     ]
    }
   ],
   "source": [
    "#         To check that the sum of all the elements in the Blur Kernel is 1 after Normalization\n",
    "\n",
    "s=0\n",
    "for m in range (size):    \n",
    "    for n in range(size):       \n",
    "        s = s + hn[m,n]       \n",
    "print(\"Normalised because sum is = \", s)"
   ]
  },
  {
   "cell_type": "code",
   "execution_count": 9,
   "id": "permanent-drove",
   "metadata": {},
   "outputs": [],
   "source": [
    "#         Performing Convolution and Storing the output in g matrix\n",
    "\n",
    "f = np.zeros((size*size))      \n",
    "for p in range (l,N-l):\n",
    "    for q in range(l,N-l):\n",
    "        f = F[p,q] * hn          \n",
    "        c1=0\n",
    "        for x in range (p-l,p+l+1):\n",
    "            c2 = 0\n",
    "            for y in range (q-l,q+l+1):\n",
    "                g[x,y] = g[x,y] + f[c1,c2]\n",
    "                c2=c2+1\n",
    "            c1=c1+1"
   ]
  },
  {
   "cell_type": "code",
   "execution_count": 10,
   "id": "furnished-landing",
   "metadata": {},
   "outputs": [],
   "source": [
    "# To view the New Blurred Image\n",
    "\n",
    "new_image = Image.fromarray(g)\n",
    "new_image.show()"
   ]
  },
  {
   "cell_type": "code",
   "execution_count": 11,
   "id": "rural-primary",
   "metadata": {},
   "outputs": [
    {
     "data": {
      "text/plain": [
       "True"
      ]
     },
     "execution_count": 11,
     "metadata": {},
     "output_type": "execute_result"
    }
   ],
   "source": [
    "# # # To save the new image\n",
    "\n",
    "# cv2.imwrite('( Q2-b )Space_Variant_on_Nautilus Image.png', g)"
   ]
  }
 ],
 "metadata": {
  "kernelspec": {
   "display_name": "Python 3",
   "language": "python",
   "name": "python3"
  },
  "language_info": {
   "codemirror_mode": {
    "name": "ipython",
    "version": 3
   },
   "file_extension": ".py",
   "mimetype": "text/x-python",
   "name": "python",
   "nbconvert_exporter": "python",
   "pygments_lexer": "ipython3",
   "version": "3.9.1"
  }
 },
 "nbformat": 4,
 "nbformat_minor": 5
}
