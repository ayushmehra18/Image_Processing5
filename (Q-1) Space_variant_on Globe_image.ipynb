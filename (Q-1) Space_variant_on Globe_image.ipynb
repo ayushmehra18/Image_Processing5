{
 "cells": [
  {
   "cell_type": "code",
   "execution_count": 1,
   "id": "conditional-position",
   "metadata": {},
   "outputs": [],
   "source": [
    "# To import various libraries\n",
    "\n",
    "import math\n",
    "import numpy as np\n",
    "import cv2\n",
    "from PIL import Image"
   ]
  },
  {
   "cell_type": "code",
   "execution_count": 2,
   "id": "wrong-poverty",
   "metadata": {},
   "outputs": [],
   "source": [
    "# To open \"Globe image\" and converting it into an array\n",
    "\n",
    "image_source = Image.open('Globe.png')\n",
    "image_source.show()\n",
    "F = np.array(image_source)\n",
    "N, N =F.shape"
   ]
  },
  {
   "cell_type": "code",
   "execution_count": 3,
   "id": "reduced-glenn",
   "metadata": {},
   "outputs": [],
   "source": [
    "# Calculating A and B from the boundary conditions in the question\n",
    "\n",
    "A = 2\n",
    "B = (N*N) / (2 * math.log(200))"
   ]
  },
  {
   "cell_type": "code",
   "execution_count": 4,
   "id": "afraid-arrival",
   "metadata": {},
   "outputs": [],
   "source": [
    "# Making of a sigma map\n",
    "\n",
    "sigma_map = np.zeros((N,N))\n",
    "for m in range (N):\n",
    "    for n in range(N):\n",
    "        sigma_map[m,n] = A * (math.exp(-(((m-(N/2))**2) + ((n-(N/2))**2))/(B)))"
   ]
  },
  {
   "cell_type": "code",
   "execution_count": 5,
   "id": "confidential-accreditation",
   "metadata": {},
   "outputs": [],
   "source": [
    "# Performing Space Variant Blurring\n",
    "\n",
    "g = np.zeros((N,N))\n",
    "for i in range (0,N):\n",
    "    for j in range(0,N):\n",
    "        sigma = sigma_map[i,j]\n",
    "        size = math.ceil((6*sigma)+1)\n",
    "        if (size%2) == 0:\n",
    "            size = size + 1     \n",
    "        l=int((size-1)/2)\n",
    "        \n",
    "#         Finding Gaussian Blurring Kernel\n",
    "\n",
    "        h=[]\n",
    "        for m in range (-l,l+1):\n",
    "            for n in range(-l,l+1):\n",
    "                df= math.exp(-((m*m)+(n*n))/(2*sigma*sigma))*((2*math.pi*(sigma*sigma))**-1)\n",
    "                h.append(df)\n",
    "        h=(np.array(h)).reshape(size,size)\n",
    "        \n",
    "        for o in range(l-1):\n",
    "                pot=h[o,:]\n",
    "                h[o,:]=h[size-1-o,:]\n",
    "                h[size-1-o,:]=pot\n",
    "                \n",
    "#         Addition of all the elements in the Blur Kernel\n",
    "\n",
    "        su=0\n",
    "        for p in range (size):  \n",
    "            for q in range(size):      \n",
    "                su = su + h[p,q]\n",
    "\n",
    "\n",
    "#         Doing Normalization of the Blur Kernel\n",
    "\n",
    "        hn=np.zeros((size,size))\n",
    "        for u in range (size):    \n",
    "            for v in range(size):        \n",
    "                hn[u,v] = h[u,v]/su        \n",
    "        \n",
    "#         Performing Superposition and Storing the output in g matrix\n",
    "\n",
    "        f = hn*F[i,j]        \n",
    "        for x in range(i-l,i+l+1):\n",
    "            for y in range(j-l,j+l+1):\n",
    "                if x<0 or y<0 or x>=N or y>=N:\n",
    "                     continue \n",
    "                else:\n",
    "                     g[x,y]=g[x,y]+f[i-l-x,j-l-y]"
   ]
  },
  {
   "cell_type": "code",
   "execution_count": 6,
   "id": "saved-austin",
   "metadata": {},
   "outputs": [],
   "source": [
    "# To view the New Blurred Image\n",
    "\n",
    "new_image = Image.fromarray(g)\n",
    "new_image.show()"
   ]
  },
  {
   "cell_type": "code",
   "execution_count": 7,
   "id": "naked-stockholm",
   "metadata": {},
   "outputs": [],
   "source": [
    "# # # # To save the new image\n",
    "\n",
    "# cv2.imwrite('Space_Variant_Blurr.png Q-1', g)"
   ]
  }
 ],
 "metadata": {
  "kernelspec": {
   "display_name": "Python 3",
   "language": "python",
   "name": "python3"
  },
  "language_info": {
   "codemirror_mode": {
    "name": "ipython",
    "version": 3
   },
   "file_extension": ".py",
   "mimetype": "text/x-python",
   "name": "python",
   "nbconvert_exporter": "python",
   "pygments_lexer": "ipython3",
   "version": "3.9.1"
  }
 },
 "nbformat": 4,
 "nbformat_minor": 5
}
